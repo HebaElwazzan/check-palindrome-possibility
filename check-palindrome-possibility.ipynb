{
 "cells": [
  {
   "cell_type": "markdown",
   "id": "f10b2690",
   "metadata": {},
   "source": [
    "# Checking if a string could be a palindrome\n",
    "\n",
    "You have probably been tasked at some point or another to write a program that checks whether or not a given string is a palindrome. If not, try it! It's a good exercise.\n",
    "\n",
    "The purpose of this notebook is not to check for palindromes, but to check whether or not a string, if it were arranged in a certain way, could be a palindrome.\n",
    "\n",
    "### But what is a palindrome?\n",
    "\n",
    "If you are not already familiar with the term, a palindrome is a string of characters, alphabetical or numerical, that are symmetric arround their middle. A phrase like \"Was it a car or a cat I saw?\" is a palindrome, or even a date such as 21/9/21. Try reading them backwards and you'll find that they read the same (whitespace characters not considered).\n",
    "\n",
    "**So how do we check if a string could be a palindrome?** It's simple. First, let's get user's input:"
   ]
  },
  {
   "cell_type": "code",
   "execution_count": 23,
   "id": "423ac8de",
   "metadata": {},
   "outputs": [
    {
     "name": "stdout",
     "output_type": "stream",
     "text": [
      "Please enter a string you wish to check cccaa\n"
     ]
    }
   ],
   "source": [
    "string = input('Please enter a string you wish to check ')"
   ]
  },
  {
   "cell_type": "markdown",
   "id": "a962abf1",
   "metadata": {},
   "source": [
    "After that let's begin our operation. Let's go over each character in the given string and count its number of *occurences.*"
   ]
  },
  {
   "cell_type": "code",
   "execution_count": 24,
   "id": "11f362ef",
   "metadata": {},
   "outputs": [
    {
     "name": "stdout",
     "output_type": "stream",
     "text": [
      "cccaa can be a palindrome\n"
     ]
    }
   ],
   "source": [
    "odd_count = 0\n",
    "string_set = ''.join(set(string)) # get all unique characters in string\n",
    "for char in string_set:\n",
    "    if string.count(char) % 2:\n",
    "        odd_count += 1\n",
    "\n",
    "if odd_count > 1:\n",
    "    print(f'{string} cannot be a palindrome')\n",
    "else:\n",
    "    print(f'{string} can be a palindrome')"
   ]
  },
  {
   "cell_type": "markdown",
   "id": "28b8f9ba",
   "metadata": {},
   "source": [
    "Did you catch that? A string must contain **at most** one character with an odd frequency of occurence; meaning it appears in the string an odd number of times. The rest of the characters **must** have an even frequency of occurence. Brilliant!"
   ]
  }
 ],
 "metadata": {
  "kernelspec": {
   "display_name": "Python 3 (ipykernel)",
   "language": "python",
   "name": "python3"
  },
  "language_info": {
   "codemirror_mode": {
    "name": "ipython",
    "version": 3
   },
   "file_extension": ".py",
   "mimetype": "text/x-python",
   "name": "python",
   "nbconvert_exporter": "python",
   "pygments_lexer": "ipython3",
   "version": "3.9.7"
  }
 },
 "nbformat": 4,
 "nbformat_minor": 5
}
